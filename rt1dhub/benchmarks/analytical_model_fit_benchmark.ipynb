{
 "cells": [
  {
   "cell_type": "code",
   "execution_count": 1,
   "metadata": {},
   "outputs": [
    {
     "name": "stdout",
     "output_type": "stream",
     "text": [
      "Detected IPython. Loading juliacall extension. See https://juliapy.github.io/PythonCall.jl/stable/compat/#IPython\n"
     ]
    }
   ],
   "source": [
    "import sys\n",
    "import os\n",
    "import jax\n",
    "jax.config.update(\"jax_enable_x64\", True)\n",
    "\n",
    "# Add the models directory to the Python path\n",
    "sys.path.append(os.path.join(os.getcwd(),'..', 'models'))\n",
    "\n",
    "# Import the functions from transport_analytical.py\n",
    "from transport_analytical import constant_injection, pulse_injection\n",
    "from transport_analytical_jax import constant_injection as const_injection_jax\n",
    "from transport_analytical_jax import pulse_injection as pulse_injection_jax\n",
    "from transport_analytical_sympy import vec_pulse, vec_par_pulse, sympy_loss, sympy_jac\n",
    "import juliacall"
   ]
  },
  {
   "cell_type": "code",
   "execution_count": 2,
   "metadata": {},
   "outputs": [
    {
     "name": "stderr",
     "output_type": "stream",
     "text": [
      "WARNING: method definition for pulse_injection! at c:\\Users\\vcant\\Documents\\rt1dhub\\benchmarks\\testing_julia_code.jl:32 declares type variable T but does not use it.\n"
     ]
    }
   ],
   "source": [
    "%%julia\n",
    "include(\"testing_julia_code.jl\")\n",
    "using Optim\n",
    "using OptimizationOptimJL\n",
    "using Optimization\n",
    "using SciMLSensitivity\n",
    "using CSV\n",
    "using DataFrames"
   ]
  },
  {
   "cell_type": "markdown",
   "metadata": {},
   "source": [
    "## Checking the correctness and efficiency of optimization of the parameters of a solution"
   ]
  },
  {
   "cell_type": "code",
   "execution_count": 3,
   "metadata": {},
   "outputs": [],
   "source": [
    "import numpy as np\n",
    "import matplotlib.pyplot as plt\n",
    "import scipy\n",
    "import timeit\n",
    "import jax\n",
    "import jax.scipy as jscipy\n",
    "from jax.scipy.optimize import minimize as jminimize"
   ]
  },
  {
   "cell_type": "code",
   "execution_count": 4,
   "metadata": {},
   "outputs": [],
   "source": [
    "data = np.loadtxt('data/data_a.csv', delimiter=',', skiprows=1)\n",
    "t = data[:,0]\n",
    "c = data[:,1]"
   ]
  },
  {
   "cell_type": "markdown",
   "metadata": {},
   "source": [
    "### Pure Numpy function"
   ]
  },
  {
   "cell_type": "code",
   "execution_count": 8,
   "metadata": {},
   "outputs": [],
   "source": [
    "c0 = 2\n",
    "c_in = 0\n",
    "v = 1e-5\n",
    "alpha_l = 1e-3\n",
    "De = 2.01e-9\n",
    "Dl = De + alpha_l*v\n",
    "t_pulse = 3600\n",
    "col_length = 0.121\n",
    "x = np.array([col_length])\n",
    "c_model = np.zeros((len(t), len(x)))\n",
    "Q0_ml = 6 #ml/hr\n",
    "Q0 = Q0_ml*1e-6/3600 # m3/s\n",
    "diam = 0.037 # diameter of the column [m]\n",
    "area = np.pi*(diam/2)**2 # cross-sectional area of the column [m2]\n",
    "q = Q0/area # Darcy velocity [m/s]\n",
    "def loss_numpy(p):\n",
    "    phi = p[0]\n",
    "    alpha_l = p[1]\n",
    "    v = q/phi\n",
    "    Dl = 2.01e-9 + alpha_l*v #bromide diffusion + dispersion\n",
    "    pulse_injection(c_model, x, t, c0, c_in, v, Dl, t_pulse)\n",
    "    return np.sum((c_model.squeeze() - c)**2)\n"
   ]
  },
  {
   "cell_type": "code",
   "execution_count": 9,
   "metadata": {},
   "outputs": [
    {
     "name": "stdout",
     "output_type": "stream",
     "text": [
      "28.1 μs ± 274 ns per loop (mean ± std. dev. of 7 runs, 10,000 loops each)\n"
     ]
    }
   ],
   "source": [
    "%timeit loss_numpy([0.3, 1e-3])"
   ]
  },
  {
   "cell_type": "code",
   "execution_count": 10,
   "metadata": {},
   "outputs": [
    {
     "name": "stdout",
     "output_type": "stream",
     "text": [
      "84 μs ± 42.3 μs per loop (mean ± std. dev. of 7 runs, 1 loop each)\n"
     ]
    }
   ],
   "source": [
    "def loss(p):\n",
    "    return sympy_loss(c, x, t, c0, c_in, p[0], q, De, p[1], t_pulse)\n",
    "\n",
    "def jac(p):\n",
    "    return sympy_jac(c, x, t, c0, c_in, p[0], q, De, p[1], t_pulse)\n",
    "\n",
    "%timeit loss([0.3, 1e-3])"
   ]
  },
  {
   "cell_type": "code",
   "execution_count": 11,
   "metadata": {},
   "outputs": [
    {
     "name": "stdout",
     "output_type": "stream",
     "text": [
      "0.2237010193202472\n",
      "0.22370101932024727\n"
     ]
    }
   ],
   "source": [
    "print(loss_numpy([0.3, 1e-3]))\n",
    "print(loss([0.3, 1e-3]))"
   ]
  },
  {
   "cell_type": "code",
   "execution_count": 12,
   "metadata": {},
   "outputs": [],
   "source": [
    "@jax.jit\n",
    "def loss_jax(p):\n",
    "    phi = p[0]\n",
    "    alpha_l = p[1]\n",
    "    v = q/phi\n",
    "    Dlj = 2.01e-9 + alpha_l*v #bromide diffusion + dispersion\n",
    "    c_model = pulse_injection_jax(x, t, c0, c_in, v, Dlj, t_pulse)\n",
    "    return np.sum((c_model.squeeze() - c)**2)"
   ]
  },
  {
   "cell_type": "code",
   "execution_count": 13,
   "metadata": {},
   "outputs": [
    {
     "data": {
      "text/plain": [
       "0.2237010193202472"
      ]
     },
     "execution_count": 13,
     "metadata": {},
     "output_type": "execute_result"
    }
   ],
   "source": [
    "np.sum((c_model.squeeze() - c)**2)"
   ]
  },
  {
   "cell_type": "code",
   "execution_count": 15,
   "metadata": {},
   "outputs": [
    {
     "name": "stdout",
     "output_type": "stream",
     "text": [
      "5.52 μs ± 42.7 ns per loop (mean ± std. dev. of 7 runs, 100,000 loops each)\n"
     ]
    }
   ],
   "source": [
    "%timeit loss_jax([0.3, 1e-3])"
   ]
  },
  {
   "cell_type": "code",
   "execution_count": 16,
   "metadata": {},
   "outputs": [
    {
     "data": {
      "text/plain": [
       "Array(0.22370102, dtype=float64)"
      ]
     },
     "execution_count": 16,
     "metadata": {},
     "output_type": "execute_result"
    }
   ],
   "source": [
    "loss_jax(np.array([0.3, 1e-3]))"
   ]
  },
  {
   "cell_type": "code",
   "execution_count": 17,
   "metadata": {},
   "outputs": [
    {
     "name": "stdout",
     "output_type": "stream",
     "text": [
      "3.39 ms ± 28.6 μs per loop (mean ± std. dev. of 7 runs, 100 loops each)\n"
     ]
    }
   ],
   "source": [
    "%timeit resnp = scipy.optimize.minimize(loss_numpy, [0.3, 1e-3], method='L-BFGS-B', tol=1e-8)"
   ]
  },
  {
   "cell_type": "code",
   "execution_count": 18,
   "metadata": {},
   "outputs": [
    {
     "data": {
      "text/plain": [
       "  message: CONVERGENCE: REL_REDUCTION_OF_F_<=_FACTR*EPSMCH\n",
       "  success: True\n",
       "   status: 0\n",
       "      fun: 0.07323841473894227\n",
       "        x: [ 2.834e-01  1.149e-03]\n",
       "      nit: 14\n",
       "      jac: [ 3.341e-05 -8.526e-04]\n",
       "     nfev: 63\n",
       "     njev: 21\n",
       " hess_inv: <2x2 LbfgsInvHessProduct with dtype=float64>"
      ]
     },
     "execution_count": 18,
     "metadata": {},
     "output_type": "execute_result"
    }
   ],
   "source": [
    "resnp = scipy.optimize.minimize(loss_numpy, [0.3, 1e-3], method='L-BFGS-B', tol=1e-8)\n",
    "resnp"
   ]
  },
  {
   "cell_type": "code",
   "execution_count": 20,
   "metadata": {},
   "outputs": [
    {
     "name": "stdout",
     "output_type": "stream",
     "text": [
      "4.02 ms ± 335 μs per loop (mean ± std. dev. of 7 runs, 1 loop each)\n"
     ]
    }
   ],
   "source": [
    "%timeit ressp = scipy.optimize.minimize(loss, [0.3, 1e-3],jac=jac, method='L-BFGS-B', tol=1e-8)"
   ]
  },
  {
   "cell_type": "code",
   "execution_count": 22,
   "metadata": {},
   "outputs": [
    {
     "data": {
      "text/plain": [
       "  message: CONVERGENCE: REL_REDUCTION_OF_F_<=_FACTR*EPSMCH\n",
       "  success: True\n",
       "   status: 0\n",
       "      fun: 0.07323841473018737\n",
       "        x: [ 2.834e-01  1.149e-03]\n",
       "      nit: 15\n",
       "      jac: [ 2.116e-05  1.725e-04]\n",
       "     nfev: 22\n",
       "     njev: 22\n",
       " hess_inv: <2x2 LbfgsInvHessProduct with dtype=float64>"
      ]
     },
     "execution_count": 22,
     "metadata": {},
     "output_type": "execute_result"
    }
   ],
   "source": [
    "ressp = scipy.optimize.minimize(loss, [0.3, 1e-3],jac=jac, method='L-BFGS-B', tol=1e-8)\n",
    "ressp"
   ]
  },
  {
   "cell_type": "code",
   "execution_count": 26,
   "metadata": {},
   "outputs": [
    {
     "name": "stdout",
     "output_type": "stream",
     "text": [
      "909 ms ± 14.7 ms per loop (mean ± std. dev. of 7 runs, 1 loop each)\n"
     ]
    }
   ],
   "source": [
    "%timeit resjax = jminimize(loss_jax, np.array([0.3, 1e-3]), method=\"BFGS\", tol=1e-8)"
   ]
  },
  {
   "cell_type": "code",
   "execution_count": 27,
   "metadata": {},
   "outputs": [
    {
     "data": {
      "text/plain": [
       "OptimizeResults(x=Array([0.28163161, 0.00149976], dtype=float64), success=Array(False, dtype=bool), status=Array(3, dtype=int64, weak_type=True), fun=Array(0.0906218, dtype=float64), jac=Array([-3.2168285, 71.8676247], dtype=float64), hess_inv=Array([[1.73547405e-03, 1.05111040e-04],\n",
       "       [1.05111040e-04, 1.23767756e-05]], dtype=float64), nfev=Array(12, dtype=int64, weak_type=True), njev=Array(12, dtype=int64, weak_type=True), nit=Array(3, dtype=int64, weak_type=True))"
      ]
     },
     "execution_count": 27,
     "metadata": {},
     "output_type": "execute_result"
    }
   ],
   "source": [
    "resjax = jminimize(loss_jax, np.array([0.3, 1e-3]), method=\"BFGS\", tol=1e-8)\n",
    "resjax"
   ]
  },
  {
   "cell_type": "code",
   "execution_count": 29,
   "metadata": {},
   "outputs": [
    {
     "name": "stdout",
     "output_type": "stream",
     "text": [
      "32.4 ms ± 573 μs per loop (mean ± std. dev. of 7 runs, 10 loops each)\n"
     ]
    }
   ],
   "source": [
    "%timeit resjaxsci = scipy.optimize.minimize(loss_jax, np.array([0.3, 1e-3]),jac=jax.grad(loss_jax), method='L-BFGS-B', tol=1e-8)"
   ]
  },
  {
   "cell_type": "code",
   "execution_count": 30,
   "metadata": {},
   "outputs": [
    {
     "data": {
      "text/plain": [
       "  message: CONVERGENCE: REL_REDUCTION_OF_F_<=_FACTR*EPSMCH\n",
       "  success: True\n",
       "   status: 0\n",
       "      fun: 0.07323841473110974\n",
       "        x: [ 2.834e-01  1.149e-03]\n",
       "      nit: 14\n",
       "      jac: [ 3.154e-05 -8.005e-04]\n",
       "     nfev: 21\n",
       "     njev: 21\n",
       " hess_inv: <2x2 LbfgsInvHessProduct with dtype=float64>"
      ]
     },
     "execution_count": 30,
     "metadata": {},
     "output_type": "execute_result"
    }
   ],
   "source": [
    "resjaxsci = scipy.optimize.minimize(loss_jax, np.array([0.3, 1e-3]),jac=jax.grad(loss_jax), method='L-BFGS-B', tol=1e-8)\n",
    "resjaxsci"
   ]
  },
  {
   "cell_type": "code",
   "execution_count": 31,
   "metadata": {},
   "outputs": [
    {
     "data": {
      "text/plain": [
       "7.176948887002528e-09"
      ]
     },
     "execution_count": 31,
     "metadata": {},
     "output_type": "execute_result"
    }
   ],
   "source": [
    "%%julia\n",
    "data = CSV.read(\"data/data_a.csv\",DataFrame)\n",
    "t = data[:,1]\n",
    "c = data[:,2]\n",
    "c0 = 2.0\n",
    "c_in = 0.0\n",
    "\n",
    "t_pulse = 3600.0\n",
    "x = [0.121]\n",
    "Q0_ml = 6 #ml/hr\n",
    "Q0 = Q0_ml*1e-6/3600 # m3/s\n",
    "diam = 0.037 # diameter of the column [m]\n",
    "area = pi*(diam/2)^2 # cross-sectional area of the column [m2]\n",
    "q = Q0/area # specific discharge [m/s]\n",
    "De = 2.01e-9\n",
    "c_model = zeros(length(t), length(x))\n",
    "v_ = q/0.3\n",
    "Dl_ = De + 1e-3*v_"
   ]
  },
  {
   "cell_type": "code",
   "execution_count": 36,
   "metadata": {},
   "outputs": [
    {
     "name": "stdout",
     "output_type": "stream",
     "text": [
      "  385.500 μs (2627 allocations: 235.06 KiB)\n"
     ]
    },
    {
     "data": {
      "text/plain": [
       "retcode: Success\n",
       "u: 2-element Vector{Float64}:\n",
       " 0.2834378530055382\n",
       " 0.0011485912307908656"
      ]
     },
     "execution_count": 36,
     "metadata": {},
     "output_type": "execute_result"
    }
   ],
   "source": [
    "%%julia\n",
    "adtype = Optimization.AutoForwardDiff()\n",
    "optf = Optimization.OptimizationFunction((u,p)->loss_julia(u, x, t, c0, c_in, q, De, t_pulse), adtype)\n",
    "lb = [0.1, 1e-4]\n",
    "ub = [0.7, 0.1]\n",
    "p0 = [0.3, 1e-3]\n",
    "optprob = Optimization.OptimizationProblem(optf, p0,)\n",
    "@btime result_ode = Optimization.solve(optprob, Optim.LBFGS())\n"
   ]
  },
  {
   "cell_type": "code",
   "execution_count": 35,
   "metadata": {},
   "outputs": [
    {
     "data": {
      "text/plain": [
       "0.07323841472980072"
      ]
     },
     "execution_count": 35,
     "metadata": {},
     "output_type": "execute_result"
    }
   ],
   "source": [
    "%%julia\n",
    "best_p = result_ode.u\n",
    "loss_julia(best_p, x, t, c0, c_in, q, De, t_pulse)"
   ]
  }
 ],
 "metadata": {
  "kernelspec": {
   "display_name": "rt1dhub-env",
   "language": "python",
   "name": "python3"
  },
  "language_info": {
   "codemirror_mode": {
    "name": "ipython",
    "version": 3
   },
   "file_extension": ".py",
   "mimetype": "text/x-python",
   "name": "python",
   "nbconvert_exporter": "python",
   "pygments_lexer": "ipython3",
   "version": "3.11.9"
  }
 },
 "nbformat": 4,
 "nbformat_minor": 2
}
