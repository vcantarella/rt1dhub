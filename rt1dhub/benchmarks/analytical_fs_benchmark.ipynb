{
 "cells": [
  {
   "cell_type": "code",
   "execution_count": 1,
   "metadata": {},
   "outputs": [
    {
     "name": "stdout",
     "output_type": "stream",
     "text": [
      "Detected IPython. Loading juliacall extension. See https://juliapy.github.io/PythonCall.jl/stable/compat/#IPython\n"
     ]
    }
   ],
   "source": [
    "import sys\n",
    "import os\n",
    "import jax\n",
    "jax.config.update(\"jax_enable_x64\", True)\n",
    "\n",
    "# Add the models directory to the Python path\n",
    "sys.path.append(os.path.join(os.getcwd(),'..', 'models'))\n",
    "\n",
    "# Import the functions from transport_analytical.py\n",
    "from transport_analytical import constant_injection, pulse_injection\n",
    "from transport_analytical_jax import constant_injection as const_injection_jax\n",
    "from transport_analytical_jax import pulse_injection as pulse_injection_jax\n",
    "from transport_analytical_sympy import vec_pulse, vec_par_pulse\n",
    "import juliacall"
   ]
  },
  {
   "cell_type": "code",
   "execution_count": 2,
   "metadata": {},
   "outputs": [],
   "source": [
    "%%julia\n",
    "include(\"../models/transport_analytical.jl\")"
   ]
  },
  {
   "cell_type": "markdown",
   "metadata": {},
   "source": [
    "# Benchmark of the Analytical Conservative Trasport Equation\n",
    "\n",
    "I prepared the solution from Lapidus and Amundson (1952) to the best of my knowledge in three different frameworks:\n",
    "- numpy/scipy\n",
    "- jax\n",
    "- julia\n",
    "\n",
    "I already anticipate that the numpy solution is not the fastest because there is an inner loop in pure python. I am trying to improve that. I also did not include a numba solution for now because I need to use the special function from scipy `erfc` which requires more work done to adapt it."
   ]
  },
  {
   "cell_type": "markdown",
   "metadata": {},
   "source": [
    "## Parameters and Array Values\n",
    "\n",
    "To perform the transport analysis, we need to define the following parameters and array values:\n",
    "\n",
    "- `Dl`: The dispersion coefficient [L^2/T]\n",
    "- `v`: The velocity of the fluid [L/T]\n",
    "- `L`: The length of the domain [L]\n",
    "- `T`: The total time of the analysis  [T]\n",
    "- `N`: The number of grid points\n",
    "- `x`: The array of spatial coordinates [L]\n",
    "- `c0`: The initial concentration [M/L^3]\n",
    "- `c_in`: The concentration at the inlet [M/L^3]\n",
    "\n",
    "Let's define these parameters and array values:"
   ]
  },
  {
   "cell_type": "code",
   "execution_count": 3,
   "metadata": {},
   "outputs": [],
   "source": [
    "import numpy as np\n",
    "x = np.linspace(0, 0.5, 100)\n",
    "t = np.linspace(0.1, 72000, 100)\n",
    "c0 = 1.\n",
    "c_in = 0.\n",
    "v = 1e-5\n",
    "alpha_l = 1e-3\n",
    "De = 1e-9\n",
    "phi = 0.3\n",
    "Dl = 1e-9 + alpha_l*v\n",
    "t_pulse = 3600\n",
    "crnp = np.zeros((len(t), len(x)))\n"
   ]
  },
  {
   "cell_type": "code",
   "execution_count": 4,
   "metadata": {},
   "outputs": [
    {
     "data": {
      "text/plain": [
       "100×100 Matrix{Float64}:\n",
       " 0.0  0.0  0.0  0.0  0.0  0.0  0.0  0.0  …  0.0  0.0  0.0  0.0  0.0  0.0  0.0\n",
       " 0.0  0.0  0.0  0.0  0.0  0.0  0.0  0.0     0.0  0.0  0.0  0.0  0.0  0.0  0.0\n",
       " 0.0  0.0  0.0  0.0  0.0  0.0  0.0  0.0     0.0  0.0  0.0  0.0  0.0  0.0  0.0\n",
       " 0.0  0.0  0.0  0.0  0.0  0.0  0.0  0.0     0.0  0.0  0.0  0.0  0.0  0.0  0.0\n",
       " 0.0  0.0  0.0  0.0  0.0  0.0  0.0  0.0     0.0  0.0  0.0  0.0  0.0  0.0  0.0\n",
       " 0.0  0.0  0.0  0.0  0.0  0.0  0.0  0.0  …  0.0  0.0  0.0  0.0  0.0  0.0  0.0\n",
       " 0.0  0.0  0.0  0.0  0.0  0.0  0.0  0.0     0.0  0.0  0.0  0.0  0.0  0.0  0.0\n",
       " 0.0  0.0  0.0  0.0  0.0  0.0  0.0  0.0     0.0  0.0  0.0  0.0  0.0  0.0  0.0\n",
       " 0.0  0.0  0.0  0.0  0.0  0.0  0.0  0.0     0.0  0.0  0.0  0.0  0.0  0.0  0.0\n",
       " 0.0  0.0  0.0  0.0  0.0  0.0  0.0  0.0     0.0  0.0  0.0  0.0  0.0  0.0  0.0\n",
       " ⋮                        ⋮              ⋱            ⋮                   \n",
       " 0.0  0.0  0.0  0.0  0.0  0.0  0.0  0.0     0.0  0.0  0.0  0.0  0.0  0.0  0.0\n",
       " 0.0  0.0  0.0  0.0  0.0  0.0  0.0  0.0     0.0  0.0  0.0  0.0  0.0  0.0  0.0\n",
       " 0.0  0.0  0.0  0.0  0.0  0.0  0.0  0.0     0.0  0.0  0.0  0.0  0.0  0.0  0.0\n",
       " 0.0  0.0  0.0  0.0  0.0  0.0  0.0  0.0     0.0  0.0  0.0  0.0  0.0  0.0  0.0\n",
       " 0.0  0.0  0.0  0.0  0.0  0.0  0.0  0.0  …  0.0  0.0  0.0  0.0  0.0  0.0  0.0\n",
       " 0.0  0.0  0.0  0.0  0.0  0.0  0.0  0.0     0.0  0.0  0.0  0.0  0.0  0.0  0.0\n",
       " 0.0  0.0  0.0  0.0  0.0  0.0  0.0  0.0     0.0  0.0  0.0  0.0  0.0  0.0  0.0\n",
       " 0.0  0.0  0.0  0.0  0.0  0.0  0.0  0.0     0.0  0.0  0.0  0.0  0.0  0.0  0.0\n",
       " 0.0  0.0  0.0  0.0  0.0  0.0  0.0  0.0     0.0  0.0  0.0  0.0  0.0  0.0  0.0"
      ]
     },
     "execution_count": 4,
     "metadata": {},
     "output_type": "execute_result"
    }
   ],
   "source": [
    "%%julia\n",
    "x = range(0, stop=0.5, length=100)\n",
    "t = range(0.1, stop=72000, length=100)\n",
    "c0 = 1.0\n",
    "c_in = 0.0\n",
    "v = 1e-5\n",
    "alpha_l = 1e-3\n",
    "De = 1e-9\n",
    "Dl = De + alpha_l * v\n",
    "t_pulse = 3600.0\n",
    "phi = 0.3\n",
    "cr = zeros(length(x), length(t))    "
   ]
  },
  {
   "cell_type": "markdown",
   "metadata": {},
   "source": [
    "## Benchmarking the python and julia implementations over a range of velocities\n",
    "\n",
    "Slow velocities: more diffusion dominated, fast velocities: more advection dominated.\n",
    "\n",
    "Although for the analytical function, it is likely not to matter much."
   ]
  },
  {
   "cell_type": "code",
   "execution_count": 5,
   "metadata": {},
   "outputs": [],
   "source": [
    "qs = np.array([1e-3, 1e-4, 1e-5, 1e-6, 1e-7])\n",
    "vs = qs / phi"
   ]
  },
  {
   "cell_type": "code",
   "execution_count": 6,
   "metadata": {},
   "outputs": [
    {
     "data": {
      "text/plain": [
       "5-element Vector{Float64}:\n",
       " 0.0033333333333333335\n",
       " 0.0003333333333333334\n",
       " 3.3333333333333335e-5\n",
       " 3.3333333333333333e-6\n",
       " 3.3333333333333335e-7"
      ]
     },
     "execution_count": 6,
     "metadata": {},
     "output_type": "execute_result"
    }
   ],
   "source": [
    "%%julia\n",
    "qs = [1e-3, 1e-4, 1e-5, 1e-6, 1e-7]\n",
    "vs = qs ./ phi"
   ]
  },
  {
   "cell_type": "code",
   "execution_count": 7,
   "metadata": {},
   "outputs": [],
   "source": [
    "#Checking solutions:\n",
    "\n",
    "for v in vs:\n",
    "    constant_injection(crnp, x, t, c0, c_in, v, alpha_l)\n",
    "    cjax = const_injection_jax(x, t, c0, c_in, v, alpha_l)\n",
    "    assert np.allclose(crnp, cjax, rtol=1e-6, atol=1e-6)"
   ]
  },
  {
   "cell_type": "code",
   "execution_count": 8,
   "metadata": {},
   "outputs": [],
   "source": [
    "%%julia\n",
    "for v in vs\n",
    "    constant_injection(cr, collect(x), collect(t), c0, c_in, v, Dl)\n",
    "end"
   ]
  },
  {
   "cell_type": "code",
   "execution_count": 9,
   "metadata": {},
   "outputs": [
    {
     "name": "stderr",
     "output_type": "stream",
     "text": [
      "c:\\Users\\vcant\\Documents\\rt1dhub\\benchmarks\\..\\models\\transport_analytical.py:27: RuntimeWarning: overflow encountered in exp\n",
      "  + np.exp(v * x[i] / Dl)\n",
      "c:\\Users\\vcant\\Documents\\rt1dhub\\benchmarks\\..\\models\\transport_analytical.py:27: RuntimeWarning: invalid value encountered in multiply\n",
      "  + np.exp(v * x[i] / Dl)\n"
     ]
    },
    {
     "name": "stdout",
     "output_type": "stream",
     "text": [
      "[0.00145184 0.00140605 0.00134649 0.0012333  0.00120902]\n"
     ]
    }
   ],
   "source": [
    "import timeit\n",
    "import timeit\n",
    "\n",
    "# Time the Python function\n",
    "ts_np = np.zeros_like(vs)\n",
    "i = 0\n",
    "for v in vs:\n",
    "    ts_np[i] = timeit.timeit(lambda: constant_injection(crnp, x, t, c0, c_in, v, Dl), number=1000)\n",
    "    ts_np[i] = ts_np[i] / 1000\n",
    "    i += 1\n",
    "print(ts_np)\n"
   ]
  },
  {
   "cell_type": "code",
   "execution_count": 10,
   "metadata": {},
   "outputs": [
    {
     "name": "stdout",
     "output_type": "stream",
     "text": [
      "[1.3493905e-04 1.3436007e-04 1.2166246e-04 8.1844160e-05 8.9288490e-05]\n"
     ]
    }
   ],
   "source": [
    "# Time the Python function\n",
    "ts_jax = np.zeros_like(vs)\n",
    "i = 0\n",
    "for v in vs:\n",
    "    ts_jax[i] = timeit.timeit(lambda: const_injection_jax(x, t, c0, c_in, v, Dl).block_until_ready(), number=10000)\n",
    "    ts_jax[i] = ts_jax[i] / 10000\n",
    "    i += 1\n",
    "print(ts_jax)"
   ]
  },
  {
   "cell_type": "code",
   "execution_count": 11,
   "metadata": {},
   "outputs": [],
   "source": [
    "%%julia\n",
    "using BenchmarkTools"
   ]
  },
  {
   "cell_type": "code",
   "execution_count": 12,
   "metadata": {},
   "outputs": [
    {
     "data": {
      "text/plain": [
       "5-element Vector{Float64}:\n",
       " 0.0003716\n",
       " 0.0003688\n",
       " 0.00037\n",
       " 0.0003691\n",
       " 0.000369"
      ]
     },
     "execution_count": 12,
     "metadata": {},
     "output_type": "execute_result"
    }
   ],
   "source": [
    "%%julia\n",
    "ts = zeros(length(vs))\n",
    "xc = collect(x)\n",
    "tc = collect(t)\n",
    "for (i, v) in enumerate(vs)\n",
    "    ts[i] = @belapsed constant_injection(cr, xc, tc, c0, c_in, v, Dl)\n",
    "end\n",
    "ts"
   ]
  },
  {
   "cell_type": "code",
   "execution_count": 13,
   "metadata": {},
   "outputs": [],
   "source": [
    "from juliacall import Main as jl"
   ]
  },
  {
   "cell_type": "code",
   "execution_count": 14,
   "metadata": {},
   "outputs": [],
   "source": [
    "tjulia = jl.ts"
   ]
  },
  {
   "cell_type": "code",
   "execution_count": 15,
   "metadata": {},
   "outputs": [
    {
     "data": {
      "text/plain": [
       "5-element Vector{Float64}:\n",
       " 0.0003716\n",
       " 0.0003688\n",
       " 0.00037\n",
       " 0.0003691\n",
       " 0.000369"
      ]
     },
     "execution_count": 15,
     "metadata": {},
     "output_type": "execute_result"
    }
   ],
   "source": [
    "tjulia"
   ]
  },
  {
   "cell_type": "code",
   "execution_count": 16,
   "metadata": {},
   "outputs": [
    {
     "name": "stderr",
     "output_type": "stream",
     "text": [
      "C:\\Users\\vcant\\AppData\\Local\\Temp\\ipykernel_17420\\3148224209.py:32: UserWarning: FigureCanvasAgg is non-interactive, and thus cannot be shown\n",
      "  fig.show()\n"
     ]
    },
    {
     "data": {
      "image/png": "[encoded data removed]",
      "text/plain": [
       "<Figure size 640x480 with 1 Axes>"
      ]
     },
     "metadata": {},
     "output_type": "display_data"
    }
   ],
   "source": [
    "import matplotlib.pyplot as plt\n",
    "\n",
    "# Define the data\n",
    "labels = [np.format_float_scientific(v,2) for v in vs]\n",
    "\n",
    "\n",
    "# Set the width of the bars\n",
    "bar_width = 0.25\n",
    "\n",
    "# Set the positions of the bars on the x-axis\n",
    "r1 = np.arange(len(ts_np))\n",
    "r2 = [x + bar_width for x in r1]\n",
    "r3 = [x + bar_width for x in r2]\n",
    "\n",
    "fig, ax = plt.subplots()\n",
    "\n",
    "# Create the bar plot\n",
    "ax.bar(r1, ts_np, color='blue', width=bar_width, edgecolor='black', label='numpy - singlethreaded')\n",
    "ax.bar(r2, ts_jax, color='orange', width=bar_width, edgecolor='black', label='jax - multithreaded')\n",
    "ax.bar(r3, tjulia, color='green', width=bar_width, edgecolor='black', label='julia - singlethread')\n",
    "\n",
    "# Add xticks and labels\n",
    "ax.set_xlabel('Velocities')\n",
    "ax.set_ylabel('Time (s)')\n",
    "ax.set_title('Comparison of Execution Times - Constant Injection')\n",
    "ax.set_xticks([r + bar_width for r in range(len(ts_np))], labels)\n",
    "\n",
    "# Add a legend\n",
    "ax.legend()\n",
    "\n",
    "# Show the plot\n",
    "fig.show()"
   ]
  },
  {
   "cell_type": "markdown",
   "metadata": {},
   "source": [
    "## Now testing the pulse injection"
   ]
  },
  {
   "cell_type": "code",
   "execution_count": 19,
   "metadata": {},
   "outputs": [],
   "source": [
    "t_pulse = 3600.\n",
    "crnp = np.zeros((len(t), len(x)))\n",
    "csym = np.zeros((len(t), len(x)))\n",
    "csym_par = np.zeros((len(t), len(x)))\n",
    "for v in vs:\n",
    "    Dl = alpha_l*v + De\n",
    "    pulse_injection(crnp, x, t, c0, c_in, v, Dl, t_pulse)\n",
    "    cjax = pulse_injection_jax(x, t, c0, c_in, v, Dl, t_pulse)\n",
    "    vec_pulse(csym, x, t, c0, c_in,phi, v*phi ,De, alpha_l, t_pulse)\n",
    "    vec_par_pulse(csym_par, x, t, c0, c_in,phi, v*phi ,De, alpha_l, t_pulse)\n",
    "    assert np.allclose(crnp, cjax, rtol=1e-6, atol=1e-6)\n",
    "    #assert np.allclose(crnp, csym, rtol=1e-6, atol=1e-6)"
   ]
  },
  {
   "cell_type": "code",
   "execution_count": 24,
   "metadata": {},
   "outputs": [
    {
     "data": {
      "text/plain": [
       "array([[0.00000000e+000, 0.00000000e+000, 0.00000000e+000, ...,\n",
       "        0.00000000e+000, 0.00000000e+000, 0.00000000e+000],\n",
       "       [0.00000000e+000, 0.00000000e+000, 0.00000000e+000, ...,\n",
       "        0.00000000e+000, 0.00000000e+000, 0.00000000e+000],\n",
       "       [0.00000000e+000, 0.00000000e+000, 0.00000000e+000, ...,\n",
       "        0.00000000e+000, 0.00000000e+000, 0.00000000e+000],\n",
       "       ...,\n",
       "       [0.00000000e+000, 3.26691303e-003, 9.96834062e-003, ...,\n",
       "        1.88227618e-253, 3.32698172e-259, 9.80122523e-265],\n",
       "       [0.00000000e+000, 3.16966052e-003, 9.69279472e-003, ...,\n",
       "        1.25083090e-250, 4.83118081e-256, 8.54610753e-262],\n",
       "       [0.00000000e+000, 3.07576327e-003, 9.42584733e-003, ...,\n",
       "        7.28758162e-248, 3.21247863e-253, 6.49750403e-259]])"
      ]
     },
     "execution_count": 24,
     "metadata": {},
     "output_type": "execute_result"
    }
   ],
   "source": [
    "crnp"
   ]
  },
  {
   "cell_type": "code",
   "execution_count": 25,
   "metadata": {},
   "outputs": [
    {
     "name": "stderr",
     "output_type": "stream",
     "text": [
      "c:\\Users\\vcant\\Documents\\rt1dhub\\benchmarks\\..\\models\\transport_analytical.py:47: RuntimeWarning: overflow encountered in exp\n",
      "  + np.exp(v * x[i] / Dl)\n",
      "c:\\Users\\vcant\\Documents\\rt1dhub\\benchmarks\\..\\models\\transport_analytical.py:47: RuntimeWarning: invalid value encountered in multiply\n",
      "  + np.exp(v * x[i] / Dl)\n",
      "c:\\Users\\vcant\\Documents\\rt1dhub\\benchmarks\\..\\models\\transport_analytical.py:57: RuntimeWarning: overflow encountered in exp\n",
      "  + np.exp(v * x[i] / Dl)\n",
      "c:\\Users\\vcant\\Documents\\rt1dhub\\benchmarks\\..\\models\\transport_analytical.py:57: RuntimeWarning: invalid value encountered in multiply\n",
      "  + np.exp(v * x[i] / Dl)\n"
     ]
    },
    {
     "name": "stdout",
     "output_type": "stream",
     "text": [
      "[0.00020003 0.0001983  0.00019773 0.00014762 0.0001452 ]\n"
     ]
    }
   ],
   "source": [
    "# Time the Python function\n",
    "ts_jax = np.zeros_like(vs)\n",
    "ts_np = np.zeros_like(vs)\n",
    "ts_sym = np.zeros_like(vs)\n",
    "ts_sym_par = np.zeros_like(vs)\n",
    "i = 0\n",
    "for v in vs:\n",
    "    ts_jax[i] = timeit.timeit(lambda: pulse_injection_jax(x, t, c0, c_in, v, Dl, t_pulse).block_until_ready(), number=10000)\n",
    "    ts_jax[i] = ts_jax[i] / 10000\n",
    "    ts_np[i] = timeit.timeit(lambda: pulse_injection(crnp, x, t, c0, c_in, v, Dl, t_pulse), number=1000)\n",
    "    ts_np[i] = ts_np[i] / 1000\n",
    "    ts_sym[i] = timeit.timeit(lambda: vec_pulse(csym,x, t, c0, c_in,phi, v*phi ,De, alpha_l, t_pulse), number=10000)\n",
    "    ts_sym[i] = ts_sym[i] / 10000\n",
    "    ts_sym_par[i] = timeit.timeit(lambda: vec_par_pulse(csym_par, x, t, c0, c_in,phi, v*phi ,De, alpha_l, t_pulse), number=10000)\n",
    "    ts_sym_par[i] = ts_sym_par[i] / 10000\n",
    "\n",
    "    i += 1\n",
    "print(ts_jax)"
   ]
  },
  {
   "cell_type": "code",
   "execution_count": 26,
   "metadata": {},
   "outputs": [
    {
     "name": "stderr",
     "output_type": "stream",
     "text": [
      "┌ Warning: Assignment to `Dl` in soft scope is ambiguous because a global variable by the same name exists: `Dl` will be treated as a new local. Disambiguate by using `local Dl` to suppress this warning or `global Dl` to assign to the existing global variable.\n",
      "└ @ none:5\n"
     ]
    },
    {
     "data": {
      "text/plain": [
       "5-element Vector{Float64}:\n",
       " 0.0006682\n",
       " 0.0006679\n",
       " 0.0006678\n",
       " 0.0006678\n",
       " 0.0006678"
      ]
     },
     "execution_count": 26,
     "metadata": {},
     "output_type": "execute_result"
    }
   ],
   "source": [
    "%%julia\n",
    "ts = zeros(length(vs))\n",
    "t_pulse = 3600.0\n",
    "for (i, v) in enumerate(vs)\n",
    "    Dl = alpha_l * v + De\n",
    "    ts[i] = @belapsed pulse_injection(cr,xc, tc, c0, c_in, v, Dl, t_pulse)\n",
    "end\n",
    "ts"
   ]
  },
  {
   "cell_type": "code",
   "execution_count": null,
   "metadata": {},
   "outputs": [],
   "source": []
  },
  {
   "cell_type": "code",
   "execution_count": 27,
   "metadata": {},
   "outputs": [],
   "source": [
    "tjulia = jl.ts"
   ]
  },
  {
   "cell_type": "code",
   "execution_count": 28,
   "metadata": {},
   "outputs": [
    {
     "data": {
      "text/plain": [
       "5-element Vector{Float64}:\n",
       " 0.0006682\n",
       " 0.0006679\n",
       " 0.0006678\n",
       " 0.0006678\n",
       " 0.0006678"
      ]
     },
     "execution_count": 28,
     "metadata": {},
     "output_type": "execute_result"
    }
   ],
   "source": [
    "tjulia"
   ]
  },
  {
   "cell_type": "code",
   "execution_count": 29,
   "metadata": {},
   "outputs": [
    {
     "name": "stderr",
     "output_type": "stream",
     "text": [
      "C:\\Users\\vcant\\AppData\\Local\\Temp\\ipykernel_17420\\2119877590.py:36: UserWarning: FigureCanvasAgg is non-interactive, and thus cannot be shown\n",
      "  fig.show()\n"
     ]
    },
    {
     "data": {
      "image/png": "[encoded data removed]",
      "text/plain": [
       "<Figure size 640x480 with 1 Axes>"
      ]
     },
     "metadata": {},
     "output_type": "display_data"
    }
   ],
   "source": [
    "import matplotlib.pyplot as plt\n",
    "\n",
    "# Define the data\n",
    "labels = [np.format_float_scientific(v,2) for v in vs]\n",
    "\n",
    "\n",
    "# Set the width of the bars\n",
    "bar_width = 0.15\n",
    "\n",
    "# Set the positions of the bars on the x-axis\n",
    "r1 = np.arange(len(ts_np))\n",
    "r2 = [x + bar_width for x in r1]\n",
    "r3 = [x + bar_width for x in r2]\n",
    "r4 = [x + bar_width for x in r3]\n",
    "r5 = [x + bar_width for x in r4]\n",
    "\n",
    "fig, ax = plt.subplots()\n",
    "\n",
    "# Create the bar plot\n",
    "ax.bar(r1, ts_np, color='blue', width=bar_width, edgecolor='black', label='numpy - singlethreaded')\n",
    "ax.bar(r2, ts_jax, color='orange', width=bar_width, edgecolor='black', label='jax - multithreaded')\n",
    "ax.bar(r3, tjulia, color='green', width=bar_width, edgecolor='black', label='julia - singlethread')\n",
    "ax.bar(r4, ts_sym, color='red', width=bar_width, edgecolor='black', label='sympy - singlethread')\n",
    "ax.bar(r5, ts_sym_par, color='purple', width=bar_width, edgecolor='black', label='sympy - parallel')\n",
    "\n",
    "# Add xticks and labels\n",
    "ax.set_xlabel('Velocities')\n",
    "ax.set_ylabel('Time (s)')\n",
    "ax.set_title('Comparison of Execution Times - Pulse Injection')\n",
    "ax.set_xticks([r + bar_width for r in range(len(ts_np))], labels)\n",
    "\n",
    "# Add a legend\n",
    "ax.legend()\n",
    "\n",
    "# Show the plot\n",
    "fig.show()"
   ]
  },
  {
   "cell_type": "code",
   "execution_count": null,
   "metadata": {},
   "outputs": [],
   "source": []
  },
  {
   "cell_type": "code",
   "execution_count": null,
   "metadata": {},
   "outputs": [],
   "source": []
  }
 ],
 "metadata": {
  "kernelspec": {
   "display_name": "rt1dhub-env",
   "language": "python",
   "name": "python3"
  },
  "language_info": {
   "codemirror_mode": {
    "name": "ipython",
    "version": 3
   },
   "file_extension": ".py",
   "mimetype": "text/x-python",
   "name": "python",
   "nbconvert_exporter": "python",
   "pygments_lexer": "ipython3",
   "version": "3.11.9"
  }
 },
 "nbformat": 4,
 "nbformat_minor": 2
}
